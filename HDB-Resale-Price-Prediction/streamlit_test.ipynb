{
 "cells": [
  {
   "cell_type": "markdown",
   "id": "18af92a7",
   "metadata": {},
   "source": [
    "# <font color='blue'> **Data Sprint HDB Resale Prices** </font>"
   ]
  },
  {
   "cell_type": "markdown",
   "id": "616c6467",
   "metadata": {},
   "source": [
    "# <font color='red'> **This file for testing the Random Forest model before using it with streamlit**\n",
    "\n",
    "### Only loaded Random forest model & input data from the first row in train.csv to test predictions"
   ]
  },
  {
   "cell_type": "code",
   "execution_count": 5,
   "id": "81982143",
   "metadata": {},
   "outputs": [],
   "source": [
    "import joblib\n",
    "import pandas as pd"
   ]
  },
  {
   "cell_type": "code",
   "execution_count": 6,
   "id": "bcd495f6",
   "metadata": {},
   "outputs": [
    {
     "name": "stdout",
     "output_type": "stream",
     "text": [
      "Predicted Resale Price: $680,185.63\n"
     ]
    }
   ],
   "source": [
    "# Load the model\n",
    "loaded_model = joblib.load('random_forest_model.pkl')\n",
    "# Prepare the input features as a dictionary\n",
    "input_features = {\n",
    "    'floor_area_sqm': 968.76,\n",
    "    'exec_sold': 0,\n",
    "    '5room_sold': 46,\n",
    "    'max_floor_lvl': 25,\n",
    "    'hdb_age': 15,\n",
    "    'total_dwelling_units': 142,\n",
    "    '3room_sold': 0,\n",
    "    'zone_east': 0,\n",
    "    'zone_north': 1,\n",
    "    'zone_south': 0,\n",
    "    'zone_west': 0\n",
    "}\n",
    "\n",
    "\n",
    "# Convert the input features dictionary to a DataFrame\n",
    "input_df = pd.DataFrame(input_features, index=[0])  # Create a DataFrame from the dictionary\n",
    "# Make prediction based on features\n",
    "predictions = loaded_model.predict(input_df)\n",
    "# Display the prediction\n",
    "print(f\"Predicted Resale Price: ${predictions[0]:,.2f}\")"
   ]
  }
 ],
 "metadata": {
  "kernelspec": {
   "display_name": "Python 3",
   "language": "python",
   "name": "python3"
  },
  "language_info": {
   "codemirror_mode": {
    "name": "ipython",
    "version": 3
   },
   "file_extension": ".py",
   "mimetype": "text/x-python",
   "name": "python",
   "nbconvert_exporter": "python",
   "pygments_lexer": "ipython3",
   "version": "3.13.4"
  }
 },
 "nbformat": 4,
 "nbformat_minor": 5
}
